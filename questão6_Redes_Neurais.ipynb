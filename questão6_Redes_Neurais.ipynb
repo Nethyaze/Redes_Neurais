{
 "cells": [
  {
   "cell_type": "code",
   "execution_count": null,
   "metadata": {},
   "outputs": [],
   "source": []
  },
  {
   "cell_type": "markdown",
   "metadata": {},
   "source": [
    "Considere a base de dados encontrada em Irisdat.xlsx. Daí, pede-se:\n",
    " a) Treinar um PMC que classifique observações de flores íris em 3 espécies (Setosa, Versicolor e Virginica) usando como\n",
    "entradas as características SEPALLENGTH (SL), SEPALWIDTH (SW), PETALLENGTH (PL) e\n",
    "PETALWIDTH (PW)."
   ]
  },
  {
   "cell_type": "code",
   "execution_count": 25,
   "metadata": {},
   "outputs": [
    {
     "name": "stdout",
     "output_type": "stream",
     "text": [
      "   5,0  3,3  1,4  0,2\n",
      "0  6.4  2.8  5.6  2.2\n",
      "1  6.5  2.8  4.6  1.5\n",
      "2  6.7  3.1  5.6  2.4\n",
      "3  6.3  2.8  5.1  1.5\n",
      "4  4.6  3.4  1.4  0.3\n"
     ]
    }
   ],
   "source": [
    "import pandas as pd\n",
    "\n",
    "# URL do arquivo de dados no GitHub\n",
    "url = 'https://raw.githubusercontent.com/Nethyaze/Redes_Neurais/main/Irisdat.dat'\n",
    "\n",
    "# Carrega o arquivo de dados usando pandas com os separadores corretos\n",
    "dados = pd.read_csv(url, delimiter='\\t', decimal=',')\n",
    "\n",
    "# Imprime as primeiras linhas para verificar se os dados foram carregados corretamente\n",
    "print(dados.head())\n",
    "\n",
    "\n"
   ]
  },
  {
   "cell_type": "code",
   "execution_count": 31,
   "metadata": {},
   "outputs": [
    {
     "name": "stdout",
     "output_type": "stream",
     "text": [
      "Acurácia do modelo de classificação: 93.10%\n",
      "Tipo previsto: SETOSA, Tipo real: SETOSA\n",
      "Tipo previsto: VIRGINIC, Tipo real: VIRGINIC\n",
      "Tipo previsto: VERSICOL, Tipo real: VERSICOL\n",
      "Tipo previsto: SETOSA, Tipo real: SETOSA\n",
      "Tipo previsto: SETOSA, Tipo real: SETOSA\n",
      "Tipo previsto: VIRGINIC, Tipo real: VIRGINIC\n",
      "Tipo previsto: SETOSA, Tipo real: SETOSA\n",
      "Tipo previsto: VERSICOL, Tipo real: VERSICOL\n",
      "Tipo previsto: VERSICOL, Tipo real: VERSICOL\n",
      "Tipo previsto: VERSICOL, Tipo real: VERSICOL\n",
      "Tipo previsto: SETOSA, Tipo real: SETOSA\n",
      "Tipo previsto: VIRGINIC, Tipo real: VIRGINIC\n",
      "Tipo previsto: VERSICOL, Tipo real: VERSICOL\n",
      "Tipo previsto: VERSICOL, Tipo real: VERSICOL\n",
      "Tipo previsto: VIRGINIC, Tipo real: VIRGINIC\n",
      "Tipo previsto: SETOSA, Tipo real: SETOSA\n",
      "Tipo previsto: SETOSA, Tipo real: SETOSA\n",
      "Tipo previsto: VIRGINIC, Tipo real: VIRGINIC\n",
      "Tipo previsto: VIRGINIC, Tipo real: VIRGINIC\n",
      "Tipo previsto: VIRGINIC, Tipo real: VIRGINIC\n",
      "Tipo previsto: VIRGINIC, Tipo real: VERSICOL\n",
      "Tipo previsto: VIRGINIC, Tipo real: VIRGINIC\n",
      "Tipo previsto: VERSICOL, Tipo real: VERSICOL\n",
      "Tipo previsto: VERSICOL, Tipo real: VERSICOL\n",
      "Tipo previsto: SETOSA, Tipo real: SETOSA\n",
      "Tipo previsto: VIRGINIC, Tipo real: VIRGINIC\n",
      "Tipo previsto: SETOSA, Tipo real: SETOSA\n",
      "Tipo previsto: VERSICOL, Tipo real: VIRGINIC\n",
      "Tipo previsto: VERSICOL, Tipo real: VERSICOL\n",
      "Acurácia do modelo de classificação: 93.10%\n"
     ]
    }
   ],
   "source": [
    "import pandas as pd\n",
    "from sklearn.model_selection import train_test_split\n",
    "from sklearn.neural_network import MLPClassifier\n",
    "from sklearn.metrics import accuracy_score\n",
    "\n",
    "# URL do arquivo de dados no GitHub\n",
    "url = 'https://raw.githubusercontent.com/Nethyaze/Redes_Neurais/main/Irisdat.dat'\n",
    "\n",
    "# Carrega o arquivo de dados usando pandas com os separadores corretos\n",
    "dados = pd.read_csv(url, delimiter='\\t', decimal=',')\n",
    "\n",
    "# Renomeia as colunas para os nomes corretos\n",
    "dados.columns = ['SL', 'SW', 'PL', 'PW', 'TYPE']\n",
    "\n",
    "# Separa as características (entradas) e os rótulos (saídas)\n",
    "X = dados[['SL', 'SW', 'PL', 'PW']]\n",
    "y = dados['TYPE']\n",
    "\n",
    "# Divide os dados em conjunto de treino e teste (80% para treino, 20% para teste)\n",
    "X_train, X_test, y_train, y_test = train_test_split(X, y, test_size=0.2, random_state=42)\n",
    "\n",
    "# Inicializa o Perceptron Multicamadas (PMC) com uma única camada oculta de 100 neurônios\n",
    "modelo_classificador = MLPClassifier(hidden_layer_sizes=(100,), max_iter=1000, random_state=42)\n",
    "\n",
    "# Treina o modelo usando os dados de treino\n",
    "modelo_classificador.fit(X_train, y_train)\n",
    "\n",
    "# Faz previsões usando o conjunto de teste\n",
    "previsoes = modelo_classificador.predict(X_test)\n",
    "\n",
    "# Calcula a acurácia do modelo\n",
    "acuracia = accuracy_score(y_test, previsoes)\n",
    "print('Acurácia do modelo de classificação: {:.2f}%'.format(acuracia * 100))\n",
    "\n",
    "# Faz previsões usando o conjunto de teste\n",
    "previsoes = modelo_classificador.predict(X_test)\n",
    "\n",
    "# Imprime as previsões e os tipos reais\n",
    "for previsto, real in zip(previsoes, y_test):\n",
    "    print(f'Tipo previsto: {previsto}, Tipo real: {real}')\n",
    "\n",
    "# Calcula a acurácia do modelo\n",
    "acuracia = accuracy_score(y_test, previsoes)\n",
    "print('Acurácia do modelo de classificação: {:.2f}%'.format(acuracia * 100))\n"
   ]
  },
  {
   "cell_type": "markdown",
   "metadata": {},
   "source": [
    " b) Estime SL a partir de SW, PL, PW."
   ]
  },
  {
   "cell_type": "code",
   "execution_count": 32,
   "metadata": {},
   "outputs": [
    {
     "name": "stdout",
     "output_type": "stream",
     "text": [
      "Erro quadrático médio (MSE): 0.09470979693558297\n",
      "Coeficiente de determinação (R^2): 0.8753272301170404\n"
     ]
    }
   ],
   "source": [
    "import pandas as pd\n",
    "from sklearn.model_selection import train_test_split\n",
    "from sklearn.linear_model import LinearRegression\n",
    "from sklearn.metrics import mean_squared_error, r2_score\n",
    "\n",
    "# URL do arquivo de dados no GitHub\n",
    "url = 'https://raw.githubusercontent.com/Nethyaze/Redes_Neurais/main/Irisdat.dat'\n",
    "\n",
    "# Carrega o arquivo de dados usando pandas com os separadores corretos\n",
    "dados = pd.read_csv(url, delimiter='\\t', decimal=',')\n",
    "\n",
    "# Renomeia as colunas para os nomes corretos\n",
    "dados.columns = ['SL', 'SW', 'PL', 'PW', 'TYPE']\n",
    "\n",
    "# Separa as características (entradas) e o alvo (SL) para a regressão\n",
    "X_regressao = dados[['SW', 'PL', 'PW']]\n",
    "y_regressao = dados['SL']\n",
    "\n",
    "# Divide os dados em conjunto de treino e teste (80% para treino, 20% para teste)\n",
    "X_train_reg, X_test_reg, y_train_reg, y_test_reg = train_test_split(X_regressao, y_regressao, test_size=0.2, random_state=42)\n",
    "\n",
    "# Inicializa e treina o modelo de Regressão Linear\n",
    "modelo_regressao = LinearRegression()\n",
    "modelo_regressao.fit(X_train_reg, y_train_reg)\n",
    "\n",
    "# Faz previsões usando o conjunto de teste\n",
    "previsoes_reg = modelo_regressao.predict(X_test_reg)\n",
    "\n",
    "# Calcula métricas de desempenho do modelo de regressão\n",
    "mse = mean_squared_error(y_test_reg, previsoes_reg)\n",
    "r2 = r2_score(y_test_reg, previsoes_reg)\n",
    "\n",
    "print('Erro quadrático médio (MSE):', mse)\n",
    "print('Coeficiente de determinação (R^2):', r2)\n"
   ]
  },
  {
   "cell_type": "markdown",
   "metadata": {},
   "source": [
    "O erro quadrático médio (MSE) de aproximadamente 0.0947 indica que o modelo tem uma precisão razoável na estimativa de SL com base nas outras características.\n",
    "\n",
    "Além disso, o coeficiente de determinação (R²) de aproximadamente 0.8753 sugere que o modelo explica cerca de 87,53% da variabilidade em SL usando as características SW, PL e PW. Quanto mais próximo de 1 for o valor de R², melhor o modelo se ajusta aos dados.\n"
   ]
  }
 ],
 "metadata": {
  "kernelspec": {
   "display_name": "Python 3",
   "language": "python",
   "name": "python3"
  },
  "language_info": {
   "codemirror_mode": {
    "name": "ipython",
    "version": 3
   },
   "file_extension": ".py",
   "mimetype": "text/x-python",
   "name": "python",
   "nbconvert_exporter": "python",
   "pygments_lexer": "ipython3",
   "version": "3.11.3"
  },
  "orig_nbformat": 4
 },
 "nbformat": 4,
 "nbformat_minor": 2
}
